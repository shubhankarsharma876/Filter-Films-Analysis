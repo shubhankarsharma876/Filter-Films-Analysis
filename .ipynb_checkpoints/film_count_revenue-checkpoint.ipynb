{
 "cells": [
  {
   "cell_type": "code",
   "execution_count": 1,
   "metadata": {},
   "outputs": [],
   "source": [
    "import pandas as pd\n",
    "import matplotlib.pyplot as plt\n",
    "import seaborn as sns\n",
    "import warnings\n",
    "\n",
    "from sql_function import create_connection\n",
    "from sql_query import rented_film_and_revenue"
   ]
  },
  {
   "cell_type": "code",
   "execution_count": 2,
   "metadata": {},
   "outputs": [],
   "source": [
    "pd.plotting.register_matplotlib_converters()\n",
    "plt.style.use(\"seaborn-whitegrid\")\n",
    "pd.set_option(\"display.max_columns\", 500)\n",
    "warnings.filterwarnings(\"ignore\")"
   ]
  },
  {
   "cell_type": "markdown",
   "metadata": {},
   "source": [
    "### Create SQL Connection"
   ]
  },
  {
   "cell_type": "code",
   "execution_count": 3,
   "metadata": {},
   "outputs": [
    {
     "name": "stdout",
     "output_type": "stream",
     "text": [
      "Connection to SQLite is successful\n"
     ]
    }
   ],
   "source": [
    "SQL_PATH = 'sqlite-sakila.db'\n",
    "connection = create_connection(SQL_PATH)"
   ]
  },
  {
   "cell_type": "markdown",
   "metadata": {},
   "source": [
    "### Check Query and Simple Data Validation"
   ]
  },
  {
   "cell_type": "code",
   "execution_count": 4,
   "metadata": {},
   "outputs": [
    {
     "data": {
      "text/html": [
       "<div>\n",
       "<style scoped>\n",
       "    .dataframe tbody tr th:only-of-type {\n",
       "        vertical-align: middle;\n",
       "    }\n",
       "\n",
       "    .dataframe tbody tr th {\n",
       "        vertical-align: top;\n",
       "    }\n",
       "\n",
       "    .dataframe thead th {\n",
       "        text-align: right;\n",
       "    }\n",
       "</style>\n",
       "<table border=\"1\" class=\"dataframe\">\n",
       "  <thead>\n",
       "    <tr style=\"text-align: right;\">\n",
       "      <th></th>\n",
       "      <th>title</th>\n",
       "      <th>n_film</th>\n",
       "      <th>revenue_by_film</th>\n",
       "    </tr>\n",
       "  </thead>\n",
       "  <tbody>\n",
       "    <tr>\n",
       "      <th>0</th>\n",
       "      <td>ACADEMY DINOSAUR</td>\n",
       "      <td>23</td>\n",
       "      <td>36.77</td>\n",
       "    </tr>\n",
       "    <tr>\n",
       "      <th>1</th>\n",
       "      <td>ACE GOLDFINGER</td>\n",
       "      <td>7</td>\n",
       "      <td>52.93</td>\n",
       "    </tr>\n",
       "    <tr>\n",
       "      <th>2</th>\n",
       "      <td>ADAPTATION HOLES</td>\n",
       "      <td>12</td>\n",
       "      <td>37.88</td>\n",
       "    </tr>\n",
       "    <tr>\n",
       "      <th>3</th>\n",
       "      <td>AFFAIR PREJUDICE</td>\n",
       "      <td>23</td>\n",
       "      <td>91.77</td>\n",
       "    </tr>\n",
       "    <tr>\n",
       "      <th>4</th>\n",
       "      <td>AFRICAN EGG</td>\n",
       "      <td>12</td>\n",
       "      <td>51.88</td>\n",
       "    </tr>\n",
       "  </tbody>\n",
       "</table>\n",
       "</div>"
      ],
      "text/plain": [
       "              title  n_film  revenue_by_film\n",
       "0  ACADEMY DINOSAUR      23            36.77\n",
       "1    ACE GOLDFINGER       7            52.93\n",
       "2  ADAPTATION HOLES      12            37.88\n",
       "3  AFFAIR PREJUDICE      23            91.77\n",
       "4       AFRICAN EGG      12            51.88"
      ]
     },
     "execution_count": 4,
     "metadata": {},
     "output_type": "execute_result"
    }
   ],
   "source": [
    "df = pd.read_sql_query(rented_film_and_revenue, connection)\n",
    "df.head()"
   ]
  },
  {
   "cell_type": "code",
   "execution_count": 5,
   "metadata": {},
   "outputs": [
    {
     "name": "stdout",
     "output_type": "stream",
     "text": [
      "<class 'pandas.core.frame.DataFrame'>\n",
      "RangeIndex: 958 entries, 0 to 957\n",
      "Data columns (total 3 columns):\n",
      " #   Column           Non-Null Count  Dtype  \n",
      "---  ------           --------------  -----  \n",
      " 0   title            958 non-null    object \n",
      " 1   n_film           958 non-null    int64  \n",
      " 2   revenue_by_film  958 non-null    float64\n",
      "dtypes: float64(1), int64(1), object(1)\n",
      "memory usage: 22.6+ KB\n"
     ]
    }
   ],
   "source": [
    "df.info()"
   ]
  },
  {
   "cell_type": "code",
   "execution_count": 6,
   "metadata": {},
   "outputs": [
    {
     "data": {
      "text/plain": [
       "title              0\n",
       "n_film             0\n",
       "revenue_by_film    0\n",
       "dtype: int64"
      ]
     },
     "execution_count": 6,
     "metadata": {},
     "output_type": "execute_result"
    }
   ],
   "source": [
    "df.isnull().sum()"
   ]
  },
  {
   "cell_type": "code",
   "execution_count": 7,
   "metadata": {},
   "outputs": [
    {
     "data": {
      "text/html": [
       "<div>\n",
       "<style scoped>\n",
       "    .dataframe tbody tr th:only-of-type {\n",
       "        vertical-align: middle;\n",
       "    }\n",
       "\n",
       "    .dataframe tbody tr th {\n",
       "        vertical-align: top;\n",
       "    }\n",
       "\n",
       "    .dataframe thead th {\n",
       "        text-align: right;\n",
       "    }\n",
       "</style>\n",
       "<table border=\"1\" class=\"dataframe\">\n",
       "  <thead>\n",
       "    <tr style=\"text-align: right;\">\n",
       "      <th></th>\n",
       "      <th>title</th>\n",
       "      <th>n_film</th>\n",
       "      <th>revenue_by_film</th>\n",
       "    </tr>\n",
       "  </thead>\n",
       "  <tbody>\n",
       "  </tbody>\n",
       "</table>\n",
       "</div>"
      ],
      "text/plain": [
       "Empty DataFrame\n",
       "Columns: [title, n_film, revenue_by_film]\n",
       "Index: []"
      ]
     },
     "execution_count": 7,
     "metadata": {},
     "output_type": "execute_result"
    }
   ],
   "source": [
    "df[df.duplicated()]"
   ]
  },
  {
   "cell_type": "markdown",
   "metadata": {},
   "source": [
    "### Data Analysis"
   ]
  },
  {
   "cell_type": "markdown",
   "metadata": {},
   "source": [
    "##### Most rented films analysis"
   ]
  },
  {
   "cell_type": "code",
   "execution_count": 8,
   "metadata": {},
   "outputs": [
    {
     "data": {
      "text/html": [
       "<div>\n",
       "<style scoped>\n",
       "    .dataframe tbody tr th:only-of-type {\n",
       "        vertical-align: middle;\n",
       "    }\n",
       "\n",
       "    .dataframe tbody tr th {\n",
       "        vertical-align: top;\n",
       "    }\n",
       "\n",
       "    .dataframe thead th {\n",
       "        text-align: right;\n",
       "    }\n",
       "</style>\n",
       "<table border=\"1\" class=\"dataframe\">\n",
       "  <thead>\n",
       "    <tr style=\"text-align: right;\">\n",
       "      <th></th>\n",
       "      <th>title</th>\n",
       "      <th>n_film</th>\n",
       "    </tr>\n",
       "  </thead>\n",
       "  <tbody>\n",
       "    <tr>\n",
       "      <th>96</th>\n",
       "      <td>BUCKET BROTHERHOOD</td>\n",
       "      <td>34</td>\n",
       "    </tr>\n",
       "    <tr>\n",
       "      <th>705</th>\n",
       "      <td>ROCKETEER MOTHER</td>\n",
       "      <td>33</td>\n",
       "    </tr>\n",
       "    <tr>\n",
       "      <th>697</th>\n",
       "      <td>RIDGEMONT SUBMARINE</td>\n",
       "      <td>32</td>\n",
       "    </tr>\n",
       "    <tr>\n",
       "      <th>361</th>\n",
       "      <td>GRIT CLOCKWORK</td>\n",
       "      <td>32</td>\n",
       "    </tr>\n",
       "    <tr>\n",
       "      <th>465</th>\n",
       "      <td>JUGGLER HARDLY</td>\n",
       "      <td>32</td>\n",
       "    </tr>\n",
       "    <tr>\n",
       "      <th>312</th>\n",
       "      <td>FORWARD TEMPLE</td>\n",
       "      <td>32</td>\n",
       "    </tr>\n",
       "    <tr>\n",
       "      <th>733</th>\n",
       "      <td>SCALAWAG DUCK</td>\n",
       "      <td>32</td>\n",
       "    </tr>\n",
       "    <tr>\n",
       "      <th>957</th>\n",
       "      <td>ZORRO ARK</td>\n",
       "      <td>31</td>\n",
       "    </tr>\n",
       "    <tr>\n",
       "      <th>853</th>\n",
       "      <td>TIMBERLAND SKY</td>\n",
       "      <td>31</td>\n",
       "    </tr>\n",
       "    <tr>\n",
       "      <th>29</th>\n",
       "      <td>APACHE DIVINE</td>\n",
       "      <td>31</td>\n",
       "    </tr>\n",
       "  </tbody>\n",
       "</table>\n",
       "</div>"
      ],
      "text/plain": [
       "                   title  n_film\n",
       "96    BUCKET BROTHERHOOD      34\n",
       "705     ROCKETEER MOTHER      33\n",
       "697  RIDGEMONT SUBMARINE      32\n",
       "361       GRIT CLOCKWORK      32\n",
       "465       JUGGLER HARDLY      32\n",
       "312       FORWARD TEMPLE      32\n",
       "733        SCALAWAG DUCK      32\n",
       "957            ZORRO ARK      31\n",
       "853       TIMBERLAND SKY      31\n",
       "29         APACHE DIVINE      31"
      ]
     },
     "execution_count": 8,
     "metadata": {},
     "output_type": "execute_result"
    }
   ],
   "source": [
    "df.sort_values(\"n_film\", ascending=False)[[\"title\", \"n_film\"]][:10]"
   ]
  },
  {
   "cell_type": "code",
   "execution_count": 9,
   "metadata": {},
   "outputs": [
    {
     "data": {
      "image/png": "[encoded data removed]",
      "text/plain": [
       "<Figure size 720x360 with 1 Axes>"
      ]
     },
     "metadata": {
      "needs_background": "light"
     },
     "output_type": "display_data"
    }
   ],
   "source": [
    "most_rented_film = df.sort_values(\"n_film\", ascending=False)[:10]\n",
    "\n",
    "plt.figure(figsize=(10, 5))\n",
    "\n",
    "ax = sns.barplot(x=\"n_film\", \n",
    "            y=\"title\",\n",
    "            palette=\"YlGnBu_r\",\n",
    "            data=most_rented_film)\n",
    "\n",
    "ax.bar_label(ax.containers[0])\n",
    "ax.grid(False)\n",
    "\n",
    "plt.xlabel(\"Number of Rented Film\")\n",
    "plt.ylabel(\"Film Title\")\n",
    "plt.title(\"Top 10 Most Rented Film\")\n",
    "\n",
    "plt.show()"
   ]
  },
  {
   "cell_type": "markdown",
   "metadata": {},
   "source": [
    "##### Profit by film analysis"
   ]
  },
  {
   "cell_type": "code",
   "execution_count": 10,
   "metadata": {},
   "outputs": [
    {
     "data": {
      "text/html": [
       "<div>\n",
       "<style scoped>\n",
       "    .dataframe tbody tr th:only-of-type {\n",
       "        vertical-align: middle;\n",
       "    }\n",
       "\n",
       "    .dataframe tbody tr th {\n",
       "        vertical-align: top;\n",
       "    }\n",
       "\n",
       "    .dataframe thead th {\n",
       "        text-align: right;\n",
       "    }\n",
       "</style>\n",
       "<table border=\"1\" class=\"dataframe\">\n",
       "  <thead>\n",
       "    <tr style=\"text-align: right;\">\n",
       "      <th></th>\n",
       "      <th>title</th>\n",
       "      <th>revenue_by_film</th>\n",
       "    </tr>\n",
       "  </thead>\n",
       "  <tbody>\n",
       "    <tr>\n",
       "      <th>841</th>\n",
       "      <td>TELEGRAPH VOYAGE</td>\n",
       "      <td>231.73</td>\n",
       "    </tr>\n",
       "    <tr>\n",
       "      <th>930</th>\n",
       "      <td>WIFE TURN</td>\n",
       "      <td>223.69</td>\n",
       "    </tr>\n",
       "    <tr>\n",
       "      <th>957</th>\n",
       "      <td>ZORRO ARK</td>\n",
       "      <td>214.69</td>\n",
       "    </tr>\n",
       "    <tr>\n",
       "      <th>348</th>\n",
       "      <td>GOODFELLAS SALUTE</td>\n",
       "      <td>209.69</td>\n",
       "    </tr>\n",
       "    <tr>\n",
       "      <th>730</th>\n",
       "      <td>SATURDAY LAMBS</td>\n",
       "      <td>204.72</td>\n",
       "    </tr>\n",
       "    <tr>\n",
       "      <th>855</th>\n",
       "      <td>TITANS JERK</td>\n",
       "      <td>201.71</td>\n",
       "    </tr>\n",
       "    <tr>\n",
       "      <th>859</th>\n",
       "      <td>TORQUE BOUND</td>\n",
       "      <td>198.72</td>\n",
       "    </tr>\n",
       "    <tr>\n",
       "      <th>381</th>\n",
       "      <td>HARRY IDAHO</td>\n",
       "      <td>195.70</td>\n",
       "    </tr>\n",
       "    <tr>\n",
       "      <th>436</th>\n",
       "      <td>INNOCENT USUAL</td>\n",
       "      <td>191.74</td>\n",
       "    </tr>\n",
       "    <tr>\n",
       "      <th>420</th>\n",
       "      <td>HUSTLER PARTY</td>\n",
       "      <td>190.78</td>\n",
       "    </tr>\n",
       "  </tbody>\n",
       "</table>\n",
       "</div>"
      ],
      "text/plain": [
       "                 title  revenue_by_film\n",
       "841   TELEGRAPH VOYAGE           231.73\n",
       "930          WIFE TURN           223.69\n",
       "957          ZORRO ARK           214.69\n",
       "348  GOODFELLAS SALUTE           209.69\n",
       "730     SATURDAY LAMBS           204.72\n",
       "855        TITANS JERK           201.71\n",
       "859       TORQUE BOUND           198.72\n",
       "381        HARRY IDAHO           195.70\n",
       "436     INNOCENT USUAL           191.74\n",
       "420      HUSTLER PARTY           190.78"
      ]
     },
     "execution_count": 10,
     "metadata": {},
     "output_type": "execute_result"
    }
   ],
   "source": [
    "df.sort_values(\"revenue_by_film\", ascending=False)[[\"title\", \"revenue_by_film\"]][:10]"
   ]
  },
  {
   "cell_type": "code",
   "execution_count": 11,
   "metadata": {},
   "outputs": [
    {
     "data": {
      "image/png": "[encoded data removed]",
      "text/plain": [
       "<Figure size 864x432 with 1 Axes>"
      ]
     },
     "metadata": {
      "needs_background": "light"
     },
     "output_type": "display_data"
    }
   ],
   "source": [
    "revenue_each_film = df.sort_values(\"revenue_by_film\", ascending=False)[:10]\n",
    "\n",
    "plt.figure(figsize=(12, 6))\n",
    "\n",
    "ax = sns.barplot(x=\"revenue_by_film\", \n",
    "            y=\"title\",\n",
    "            palette=\"YlGnBu_r\",\n",
    "            data=revenue_each_film)\n",
    "\n",
    "ax.bar_label(ax.containers[0])\n",
    "ax.grid(False)\n",
    "\n",
    "plt.xlabel(\"Number of Rented Film\")\n",
    "plt.ylabel(\"Film Title\")\n",
    "plt.title(\"Top 10 Film with Most Revenue\")\n",
    "\n",
    "plt.show()"
   ]
  },
  {
   "cell_type": "code",
   "execution_count": 12,
   "metadata": {},
   "outputs": [
    {
     "data": {
      "text/html": [
       "<div>\n",
       "<style scoped>\n",
       "    .dataframe tbody tr th:only-of-type {\n",
       "        vertical-align: middle;\n",
       "    }\n",
       "\n",
       "    .dataframe tbody tr th {\n",
       "        vertical-align: top;\n",
       "    }\n",
       "\n",
       "    .dataframe thead th {\n",
       "        text-align: right;\n",
       "    }\n",
       "</style>\n",
       "<table border=\"1\" class=\"dataframe\">\n",
       "  <thead>\n",
       "    <tr style=\"text-align: right;\">\n",
       "      <th></th>\n",
       "      <th>title</th>\n",
       "      <th>rental_rate</th>\n",
       "      <th>replacement_cost</th>\n",
       "    </tr>\n",
       "  </thead>\n",
       "  <tbody>\n",
       "    <tr>\n",
       "      <th>0</th>\n",
       "      <td>ACADEMY DINOSAUR</td>\n",
       "      <td>0.99</td>\n",
       "      <td>20.99</td>\n",
       "    </tr>\n",
       "    <tr>\n",
       "      <th>1</th>\n",
       "      <td>ACE GOLDFINGER</td>\n",
       "      <td>4.99</td>\n",
       "      <td>12.99</td>\n",
       "    </tr>\n",
       "    <tr>\n",
       "      <th>2</th>\n",
       "      <td>ADAPTATION HOLES</td>\n",
       "      <td>2.99</td>\n",
       "      <td>18.99</td>\n",
       "    </tr>\n",
       "    <tr>\n",
       "      <th>3</th>\n",
       "      <td>AFFAIR PREJUDICE</td>\n",
       "      <td>2.99</td>\n",
       "      <td>26.99</td>\n",
       "    </tr>\n",
       "    <tr>\n",
       "      <th>4</th>\n",
       "      <td>AFRICAN EGG</td>\n",
       "      <td>2.99</td>\n",
       "      <td>22.99</td>\n",
       "    </tr>\n",
       "  </tbody>\n",
       "</table>\n",
       "</div>"
      ],
      "text/plain": [
       "              title  rental_rate  replacement_cost\n",
       "0  ACADEMY DINOSAUR         0.99             20.99\n",
       "1    ACE GOLDFINGER         4.99             12.99\n",
       "2  ADAPTATION HOLES         2.99             18.99\n",
       "3  AFFAIR PREJUDICE         2.99             26.99\n",
       "4       AFRICAN EGG         2.99             22.99"
      ]
     },
     "execution_count": 12,
     "metadata": {},
     "output_type": "execute_result"
    }
   ],
   "source": [
    "film_table_query = \"\"\"\n",
    "    SELECT \n",
    "        title,\n",
    "        rental_rate,\n",
    "        replacement_cost \n",
    "    FROM film\n",
    "\"\"\" \n",
    "\n",
    "pd.read_sql_query(film_table_query, connection).head()"
   ]
  }
 ],
 "metadata": {
  "kernelspec": {
   "display_name": "Python 3.10.0 64-bit",
   "language": "python",
   "name": "python3"
  },
  "language_info": {
   "codemirror_mode": {
    "name": "ipython",
    "version": 3
   },
   "file_extension": ".py",
   "mimetype": "text/x-python",
   "name": "python",
   "nbconvert_exporter": "python",
   "pygments_lexer": "ipython3",
   "version": "3.10.0"
  },
  "orig_nbformat": 4,
  "vscode": {
   "interpreter": {
    "hash": "ec71345ca5d37a0e9a74c52dd4df8f08155a9116efa2c99cb350734e2b4aad3e"
   }
  }
 },
 "nbformat": 4,
 "nbformat_minor": 2
}
